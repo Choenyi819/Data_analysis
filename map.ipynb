{
  "nbformat": 4,
  "nbformat_minor": 0,
  "metadata": {
    "colab": {
      "provenance": []
    },
    "kernelspec": {
      "name": "python3",
      "display_name": "Python 3"
    },
    "language_info": {
      "name": "python"
    }
  },
  "cells": [
    {
      "cell_type": "code",
      "execution_count": null,
      "metadata": {
        "id": "v4qEvyhZpg5C"
      },
      "outputs": [],
      "source": [
        "from pandas.io.json import json_normalize\n",
        "import folium\n",
        "from geopy.geocoders import Nominatim \n",
        "import requests\n",
        "import pandas as pd # library to handle data in a vectorized manner\n",
        "import json # library to handle JSON files"
      ]
    },
    {
      "cell_type": "code",
      "source": [
        "CLIENT_ID = 'KRQGEAXEF1YBMUVZLKYXISA2Z4OEU4EFBF320VPYJQ3ZYFJN' # your Foursquare ID\n",
        "CLIENT_SECRET = 'BPJAQ4Y0Y4YR1FBJAVIWLOSVC3M3TDNJWNJQS35KB5XKLWTS' # your Foursquare Secret\n",
        "VERSION = '20221127'\n",
        "LIMIT = 100"
      ],
      "metadata": {
        "id": "IjQJT9fkp-Yp"
      },
      "execution_count": null,
      "outputs": []
    },
    {
      "cell_type": "code",
      "source": [
        "url = \"https://api.foursquare.com/v3/places/search\"\n",
        "\n",
        "params = {\n",
        "  \t\"query\": \"coffee\",\n",
        "  \t\"ll\": \"13.133521,77.567135\",\n",
        "  \t\"open_now\": \"true\",\n",
        "  \t\"sort\":\"DISTANCE\"\n",
        "}\n",
        "\n",
        "headers = {\n",
        "    \"Accept\": \"application/json\",\n",
        "    \"Authorization\": \"fsq361JYSWONKwpnpmUjYXGAWT+sPXyjk1+sE3iDvjUJSRw=\"\n",
        "}\n",
        "\n",
        "response = requests.request(\"GET\", url, params=params, headers=headers)\n",
        "\n",
        "print(response.text)\n",
        "'''data = {'Neighbourhoods':  ['Banglore'],\n",
        "        'Latitude': ['13.133521'],\n",
        "        'Longitude': ['77.567135' ]\n",
        "       }\n",
        "\n",
        "df = pd.DataFrame (data, columns = ['Neighbourhoods','Latitude', 'Longitude'])\n",
        "df'''"
      ],
      "metadata": {
        "id": "6NxzGGFRqrwT",
        "outputId": "9472d16c-fd95-4659-8057-7a3250f1b3bf",
        "colab": {
          "base_uri": "https://localhost:8080/",
          "height": 90
        }
      },
      "execution_count": null,
      "outputs": [
        {
          "output_type": "stream",
          "name": "stdout",
          "text": [
            "{\"results\":[{\"fsq_id\":\"4c5fc61e924b76b0d2e8e7b9\",\"categories\":[{\"id\":13034,\"name\":\"Café\",\"icon\":{\"prefix\":\"https://ss3.4sqi.net/img/categories_v2/food/cafe_\",\"suffix\":\".png\"}}],\"chains\":[],\"distance\":4429,\"geocodes\":{\"main\":{\"latitude\":13.09947,\"longitude\":77.588082},\"roof\":{\"latitude\":13.09947,\"longitude\":77.588082}},\"link\":\"/v3/places/4c5fc61e924b76b0d2e8e7b9\",\"location\":{\"address\":\"Yelahanka\",\"country\":\"IN\",\"cross_street\":\"opp sheshadripuram college\",\"formatted_address\":\"Yelahanka (opp sheshadripuram college), Bangalore 560064, Karnātaka\",\"locality\":\"Bangalore\",\"postcode\":\"560064\",\"region\":\"Karnātaka\"},\"name\":\"Cafe Coffee Day\",\"related_places\":{},\"timezone\":\"Asia/Kolkata\"},{\"fsq_id\":\"613340d61ef7f12ee8ea0e10\",\"categories\":[{\"id\":13043,\"name\":\"Donut Shop\",\"icon\":{\"prefix\":\"https://ss3.4sqi.net/img/categories_v2/food/donuts_\",\"suffix\":\".png\"}}],\"chains\":[],\"distance\":5318,\"geocodes\":{\"main\":{\"latitude\":13.093955,\"longitude\":77.59487},\"roof\":{\"latitude\":13.093955,\"longitude\":77.59487}},\"link\":\"/v3/places/613340d61ef7f12ee8ea0e10\",\"location\":{\"address\":\"Rmz Galleria Mall, Counter 11A, Food Court, Ambedkar Colony, Bellary Road\",\"country\":\"IN\",\"cross_street\":\"\",\"formatted_address\":\"Rmz Galleria Mall, Counter 11A, Food Court, Ambedkar Colony, Bellary Road, Bangalore 560064, Karnātaka\",\"locality\":\"Bangalore\",\"postcode\":\"560064\",\"region\":\"Karnātaka\"},\"name\":\"Mad Over Donuts\",\"related_places\":{\"parent\":{\"fsq_id\":\"5b8a6aca33e118002c0aebbe\",\"name\":\"Food Court @ Rmz Galleria Mall\"}},\"timezone\":\"Asia/Kolkata\"},{\"fsq_id\":\"4cea8403595cb1f78659d414\",\"categories\":[{\"id\":13034,\"name\":\"Café\",\"icon\":{\"prefix\":\"https://ss3.4sqi.net/img/categories_v2/food/cafe_\",\"suffix\":\".png\"}}],\"chains\":[],\"distance\":5383,\"geocodes\":{\"main\":{\"latitude\":13.095083,\"longitude\":77.597223},\"roof\":{\"latitude\":13.095083,\"longitude\":77.597223}},\"link\":\"/v3/places/4cea8403595cb1f78659d414\",\"location\":{\"address\":\"Nh7 Yelahanka Bypass\",\"country\":\"IN\",\"cross_street\":\"No 5, Gandhinagar, Yelahanka\",\"formatted_address\":\"Nh7 Yelahanka Bypass (No 5, Gandhinagar, Yelahanka), Bangalore 941735, Karnātaka\",\"locality\":\"Bangalore\",\"postcode\":\"941735\",\"region\":\"Karnātaka\"},\"name\":\"Cafe Coffee Day\",\"related_places\":{},\"timezone\":\"Asia/Kolkata\"},{\"fsq_id\":\"5084082fe4b07ddb622f9e80\",\"categories\":[{\"id\":13002,\"name\":\"Bakery\",\"icon\":{\"prefix\":\"https://ss3.4sqi.net/img/categories_v2/food/bakery_\",\"suffix\":\".png\"}}],\"chains\":[],\"distance\":7859,\"geocodes\":{\"main\":{\"latitude\":13.072447,\"longitude\":77.603661}},\"link\":\"/v3/places/5084082fe4b07ddb622f9e80\",\"location\":{\"address\":\"9 Jakkur Road\",\"country\":\"IN\",\"cross_street\":\"Jakkur Road,Jakkur\",\"formatted_address\":\"9 Jakkur Road (Jakkur Road,Jakkur), Bangalore 560064, Karnātaka\",\"locality\":\"Bangalore\",\"neighborhood\":[\"Jakkuru\"],\"postcode\":\"560064\",\"region\":\"Karnātaka\"},\"name\":\"Jus Trufs Chocolate Shop and Cafe\",\"related_places\":{},\"timezone\":\"Asia/Kolkata\"},{\"fsq_id\":\"4ed39cc25c5c9528fd014aff\",\"categories\":[{\"id\":13034,\"name\":\"Café\",\"icon\":{\"prefix\":\"https://ss3.4sqi.net/img/categories_v2/food/cafe_\",\"suffix\":\".png\"}}],\"chains\":[],\"distance\":11343,\"geocodes\":{\"main\":{\"latitude\":13.031508,\"longitude\":77.559381},\"roof\":{\"latitude\":13.031508,\"longitude\":77.559381}},\"link\":\"/v3/places/4ed39cc25c5c9528fd014aff\",\"location\":{\"address\":\"Hmt Main Road\",\"country\":\"IN\",\"cross_street\":\"Mathikere\",\"formatted_address\":\"Hmt Main Road (Mathikere), Bangalore 941735, Karnātaka\",\"locality\":\"Bangalore\",\"postcode\":\"941735\",\"region\":\"Karnātaka\"},\"name\":\"Cafe Coffee Day\",\"related_places\":{},\"timezone\":\"Asia/Kolkata\"},{\"fsq_id\":\"51de6a46498ecf726183c783\",\"categories\":[{\"id\":13065,\"name\":\"Restaurant\",\"icon\":{\"prefix\":\"https://ss3.4sqi.net/img/categories_v2/food/default_\",\"suffix\":\".png\"}}],\"chains\":[],\"distance\":11515,\"geocodes\":{\"main\":{\"latitude\":13.034079,\"longitude\":77.596724},\"roof\":{\"latitude\":13.034079,\"longitude\":77.596724}},\"link\":\"/v3/places/51de6a46498ecf726183c783\",\"location\":{\"address\":\"64/9, Near Rajiv Gandhi College, Chola Nagar, Rt\",\"address_extended\":\"Near Rajiv Gandhi College Amarjyothi Colony\",\"country\":\"IN\",\"cross_street\":\"Cholanayakanahalli, Hebbal\",\"formatted_address\":\"64/9, Near Rajiv Gandhi College, Chola Nagar, Rt (Cholanayakanahalli, Hebbal), Bangalore 560032, Karnātaka\",\"locality\":\"Bangalore\",\"neighborhood\":[\"Cholanayakanahalli\"],\"postcode\":\"560032\",\"region\":\"Karnātaka\"},\"name\":\"Drive Inn Cafe\",\"related_places\":{},\"timezone\":\"Asia/Kolkata\"},{\"fsq_id\":\"527a3854498e2e7f69624541\",\"categories\":[{\"id\":17012,\"name\":\"Motorcycle Dealership\",\"icon\":{\"prefix\":\"https://ss3.4sqi.net/img/categories_v2/shops/motorcycle_\",\"suffix\":\".png\"}}],\"chains\":[],\"distance\":11540,\"geocodes\":{\"main\":{\"latitude\":13.03218,\"longitude\":77.589912},\"roof\":{\"latitude\":13.03218,\"longitude\":77.589912}},\"link\":\"/v3/places/527a3854498e2e7f69624541\",\"location\":{\"address\":\"No.9, Lake Sqaure\",\"address_extended\":\"1st Floor\",\"country\":\"IN\",\"cross_street\":\"Tank Road(Kensington Road), Ulsoor\",\"formatted_address\":\"No.9, Lake Sqaure (Tank Road(Kensington Road), Ulsoor), Bangalore 560042, Karnātaka\",\"locality\":\"Bangalore\",\"postcode\":\"560042\",\"region\":\"Karnātaka\"},\"name\":\"Moto Store and Café\",\"related_places\":{},\"timezone\":\"Asia/Kolkata\"},{\"fsq_id\":\"4d4a2fbaf53c8cfa646d2047\",\"categories\":[{\"id\":13034,\"name\":\"Café\",\"icon\":{\"prefix\":\"https://ss3.4sqi.net/img/categories_v2/food/cafe_\",\"suffix\":\".png\"}},{\"id\":13035,\"name\":\"Coffee Shop\",\"icon\":{\"prefix\":\"https://ss3.4sqi.net/img/categories_v2/food/coffeeshop_\",\"suffix\":\".png\"}}],\"chains\":[],\"distance\":11748,\"geocodes\":{\"main\":{\"latitude\":13.033596,\"longitude\":77.531203}},\"link\":\"/v3/places/4d4a2fbaf53c8cfa646d2047\",\"location\":{\"address\":\"Tumkur Road\",\"country\":\"IN\",\"cross_street\":\"\",\"formatted_address\":\"Tumkur Road, Bangalore 560038, Karnātaka\",\"locality\":\"Bangalore\",\"neighborhood\":[\"Jalahalli\"],\"postcode\":\"560038\",\"region\":\"Karnātaka\"},\"name\":\"Cafe Coffee Day\",\"related_places\":{},\"timezone\":\"Asia/Kolkata\"},{\"fsq_id\":\"4bed56889868a59340355d46\",\"categories\":[{\"id\":13236,\"name\":\"Italian Restaurant\",\"icon\":{\"prefix\":\"https://ss3.4sqi.net/img/categories_v2/food/italian_\",\"suffix\":\".png\"}}],\"chains\":[],\"distance\":11831,\"geocodes\":{\"main\":{\"latitude\":13.027597,\"longitude\":77.576471},\"roof\":{\"latitude\":13.027597,\"longitude\":77.576471}},\"link\":\"/v3/places/4bed56889868a59340355d46\",\"location\":{\"address\":\"2/4 80 Ft. Road\",\"address_extended\":\"Opposite Ms Ramaiah Hospital\",\"country\":\"IN\",\"cross_street\":\"RMV Extension\",\"formatted_address\":\"2/4 80 Ft. Road (RMV Extension), Bangalore 941735, Karnātaka\",\"locality\":\"Bangalore\",\"postcode\":\"941735\",\"region\":\"Karnātaka\"},\"name\":\"Freska\",\"related_places\":{},\"timezone\":\"Asia/Kolkata\"},{\"fsq_id\":\"4d58ef863281b1f78a4fb52f\",\"categories\":[{\"id\":13034,\"name\":\"Café\",\"icon\":{\"prefix\":\"https://ss3.4sqi.net/img/categories_v2/food/cafe_\",\"suffix\":\".png\"}},{\"id\":13035,\"name\":\"Coffee Shop\",\"icon\":{\"prefix\":\"https://ss3.4sqi.net/img/categories_v2/food/coffeeshop_\",\"suffix\":\".png\"}},{\"id\":13065,\"name\":\"Restaurant\",\"icon\":{\"prefix\":\"https://ss3.4sqi.net/img/categories_v2/food/default_\",\"suffix\":\".png\"}}],\"chains\":[],\"distance\":12022,\"geocodes\":{\"main\":{\"latitude\":13.028394,\"longitude\":77.593507}},\"link\":\"/v3/places/4d58ef863281b1f78a4fb52f\",\"location\":{\"address\":\"482 Rvs Complex, 80 Feet Road, Hmt Layout, Kadugondanahalli, Rt\",\"country\":\"IN\",\"cross_street\":\"6th A Main, Chowdaiah Block\",\"formatted_address\":\"482 Rvs Complex, 80 Feet Road, Hmt Layout, Kadugondanahalli, Rt (6th A Main, Chowdaiah Block), Bangalore 560032, Karnātaka\",\"locality\":\"Bangalore\",\"neighborhood\":[\"RT Nagar\"],\"postcode\":\"560032\",\"region\":\"Karnātaka\"},\"name\":\"Cuppa\",\"related_places\":{},\"timezone\":\"Asia/Kolkata\"}],\"context\":{\"geo_bounds\":{\"circle\":{\"center\":{\"latitude\":13.133521,\"longitude\":77.567135},\"radius\":22000}}}}\n"
          ]
        },
        {
          "output_type": "execute_result",
          "data": {
            "text/plain": [
              "\"data = {'Neighbourhoods':  ['Banglore'],\\n        'Latitude': ['13.133521'],\\n        'Longitude': ['77.567135' ]\\n       }\\n\\ndf = pd.DataFrame (data, columns = ['Neighbourhoods','Latitude', 'Longitude'])\\ndf\""
            ],
            "application/vnd.google.colaboratory.intrinsic+json": {
              "type": "string"
            }
          },
          "metadata": {},
          "execution_count": 6
        }
      ]
    },
    {
      "cell_type": "code",
      "source": [
        "url = \"https://api.foursquare.com/v3/places/search?open_now=true\"\n",
        "\n",
        "headers = {\n",
        "    \"accept\": \"application/json\",\n",
        "    \"Authorization\": \"fsq361JYSWONKwpnpmUjYXGAWT+sPXyjk1+sE3iDvjUJSRw=\"\n",
        "}\n",
        "\n",
        "response = requests.get(url, headers=headers)\n",
        "\n",
        "print(response.text)"
      ],
      "metadata": {
        "colab": {
          "base_uri": "https://localhost:8080/"
        },
        "id": "T_HAZr7RzzN3",
        "outputId": "f17bee70-9b67-4a8c-8cd7-e3a487a28131"
      },
      "execution_count": null,
      "outputs": [
        {
          "output_type": "stream",
          "name": "stdout",
          "text": [
            "{\"results\":[{\"fsq_id\":\"60f236b9905f5b21a734dd80\",\"categories\":[{\"id\":13003,\"name\":\"Bar\",\"icon\":{\"prefix\":\"https://ss3.4sqi.net/img/categories_v2/nightlife/pub_\",\"suffix\":\".png\"}},{\"id\":13068,\"name\":\"American Restaurant\",\"icon\":{\"prefix\":\"https://ss3.4sqi.net/img/categories_v2/food/default_\",\"suffix\":\".png\"}}],\"chains\":[],\"distance\":1679,\"geocodes\":{\"main\":{\"latitude\":37.405982,\"longitude\":-122.067276}},\"link\":\"/v3/places/60f236b9905f5b21a734dd80\",\"location\":{\"address\":\"800 Moffett Blvd\",\"census_block\":\"060855091081006\",\"country\":\"US\",\"cross_street\":\"\",\"dma\":\"San Francisco-Oakland-San Jose\",\"formatted_address\":\"800 Moffett Blvd, Mountain View, CA 94043\",\"locality\":\"Mountain View\",\"neighborhood\":[\"Mountain View South\"],\"postcode\":\"94043\",\"region\":\"CA\"},\"name\":\"Roger Bar & Restaurant\",\"related_places\":{\"parent\":{\"fsq_id\":\"60bab50c3f310904f0714952\",\"name\":\"The Ameswell Hotel\"}},\"timezone\":\"America/Los_Angeles\"},{\"fsq_id\":\"5882ccf5951e7d6cfbc3d4d8\",\"categories\":[{\"id\":13030,\"name\":\"Buffet\",\"icon\":{\"prefix\":\"https://ss3.4sqi.net/img/categories_v2/food/default_\",\"suffix\":\".png\"}},{\"id\":13218,\"name\":\"North Indian Restaurant\",\"icon\":{\"prefix\":\"https://ss3.4sqi.net/img/categories_v2/food/default_\",\"suffix\":\".png\"}}],\"chains\":[],\"distance\":2041,\"geocodes\":{\"main\":{\"latitude\":37.400959,\"longitude\":-122.057911},\"roof\":{\"latitude\":37.400959,\"longitude\":-122.057911}},\"link\":\"/v3/places/5882ccf5951e7d6cfbc3d4d8\",\"location\":{\"address\":\"425 N Whisman Rd\",\"address_extended\":\"Ste 100\",\"census_block\":\"060855091084004\",\"country\":\"US\",\"cross_street\":\"\",\"dma\":\"San Francisco-Oakland-San Jose\",\"formatted_address\":\"425 N Whisman Rd, Mountain View, CA 94043\",\"locality\":\"Mountain View\",\"neighborhood\":[\"Mountain View South\"],\"postcode\":\"94043\",\"region\":\"CA\"},\"name\":\"Everest Cuisine\",\"related_places\":{},\"timezone\":\"America/Los_Angeles\"},{\"fsq_id\":\"46d36dfdf964a520574a1fe3\",\"categories\":[{\"id\":13031,\"name\":\"Burger Joint\",\"icon\":{\"prefix\":\"https://ss3.4sqi.net/img/categories_v2/food/burger_\",\"suffix\":\".png\"}},{\"id\":13145,\"name\":\"Fast Food Restaurant\",\"icon\":{\"prefix\":\"https://ss3.4sqi.net/img/categories_v2/food/fastfood_\",\"suffix\":\".png\"}}],\"chains\":[{\"id\":\"bc635867-86af-4d4d-9dfd-e7b17779fe0c\",\"name\":\"In-N-Out Burger\"}],\"distance\":3176,\"geocodes\":{\"main\":{\"latitude\":37.420874,\"longitude\":-122.093368},\"roof\":{\"latitude\":37.420874,\"longitude\":-122.093368}},\"link\":\"/v3/places/46d36dfdf964a520574a1fe3\",\"location\":{\"address\":\"1159 N Rengstorff Ave\",\"census_block\":\"060855093041005\",\"country\":\"US\",\"cross_street\":\"at US 101\",\"dma\":\"San Francisco-Oakland-San Jose\",\"formatted_address\":\"1159 N Rengstorff Ave (at US 101), Mountain View, CA 94043\",\"locality\":\"Mountain View\",\"neighborhood\":[\"Charleston Terrace\"],\"postcode\":\"94043\",\"region\":\"CA\"},\"name\":\"In-N-Out Burger\",\"related_places\":{},\"timezone\":\"America/Los_Angeles\"},{\"fsq_id\":\"455fa0a5f964a520943d1fe3\",\"categories\":[{\"id\":13015,\"name\":\"Karaoke Bar\",\"icon\":{\"prefix\":\"https://ss3.4sqi.net/img/categories_v2/nightlife/karaoke_\",\"suffix\":\".png\"}},{\"id\":13022,\"name\":\"Sports Bar\",\"icon\":{\"prefix\":\"https://ss3.4sqi.net/img/categories_v2/nightlife/sportsbar_\",\"suffix\":\".png\"}},{\"id\":13068,\"name\":\"American Restaurant\",\"icon\":{\"prefix\":\"https://ss3.4sqi.net/img/categories_v2/food/default_\",\"suffix\":\".png\"}}],\"chains\":[],\"distance\":1901,\"geocodes\":{\"main\":{\"latitude\":37.416203,\"longitude\":-122.078724},\"roof\":{\"latitude\":37.416203,\"longitude\":-122.078724}},\"link\":\"/v3/places/455fa0a5f964a520943d1fe3\",\"location\":{\"address\":\"1431 Plymouth St\",\"address_extended\":\"Unit B\",\"census_block\":\"060855046011079\",\"country\":\"US\",\"cross_street\":\"at N Shoreline Blvd\",\"dma\":\"San Francisco-Oakland-San Jose\",\"formatted_address\":\"1431 Plymouth St (at N Shoreline Blvd), Mountain View, CA 94043\",\"locality\":\"Mountain View\",\"neighborhood\":[\"Mountain View South\"],\"postcode\":\"94043\",\"region\":\"CA\"},\"name\":\"Sports Page\",\"related_places\":{},\"timezone\":\"America/Los_Angeles\"},{\"fsq_id\":\"571e7505498e8f1104aaca12\",\"categories\":[{\"id\":13065,\"name\":\"Restaurant\",\"icon\":{\"prefix\":\"https://ss3.4sqi.net/img/categories_v2/food/default_\",\"suffix\":\".png\"}}],\"chains\":[],\"distance\":3385,\"geocodes\":{\"main\":{\"latitude\":37.393977,\"longitude\":-122.078635},\"roof\":{\"latitude\":37.393977,\"longitude\":-122.078635}},\"link\":\"/v3/places/571e7505498e8f1104aaca12\",\"location\":{\"address\":\"191 Castro St\",\"census_block\":\"060855096003006\",\"country\":\"US\",\"cross_street\":\"at Villa St\",\"dma\":\"San Francisco-Oakland-San Jose\",\"formatted_address\":\"191 Castro St (at Villa St), Mountain View, CA 94041\",\"locality\":\"Mountain View\",\"neighborhood\":[\"Mountain View South\"],\"postcode\":\"94041\",\"region\":\"CA\"},\"name\":\"Eureka! Mountain View\",\"related_places\":{},\"timezone\":\"America/Los_Angeles\"},{\"fsq_id\":\"4ae71ef4f964a5209fa821e3\",\"categories\":[{\"id\":13001,\"name\":\"Bagel Shop\",\"icon\":{\"prefix\":\"https://ss3.4sqi.net/img/categories_v2/food/bagels_\",\"suffix\":\".png\"}}],\"chains\":[{\"id\":\"16db5730-992b-0132-fd75-7a163eb2a6fc\",\"name\":\"Krispy Kreme\"}],\"distance\":3251,\"geocodes\":{\"main\":{\"latitude\":37.419244,\"longitude\":-122.094136},\"roof\":{\"latitude\":37.419244,\"longitude\":-122.094136}},\"link\":\"/v3/places/4ae71ef4f964a5209fa821e3\",\"location\":{\"address\":\"2146 Leghorn St\",\"census_block\":\"060855093041009\",\"country\":\"US\",\"cross_street\":\"at Rengstorff Ave\",\"dma\":\"San Francisco-Oakland-San Jose\",\"formatted_address\":\"2146 Leghorn St (at Rengstorff Ave), Mountain View, CA 94043\",\"locality\":\"Mountain View\",\"neighborhood\":[\"Charleston Terrace\"],\"postcode\":\"94043\",\"region\":\"CA\"},\"name\":\"Krispy Kreme\",\"related_places\":{\"parent\":{\"fsq_id\":\"4f397dd5e4b0ea2d80099c7e\",\"name\":\"Rengstorff Center\"}},\"timezone\":\"America/Los_Angeles\"},{\"fsq_id\":\"4b12183af964a520018923e3\",\"categories\":[{\"id\":10032,\"name\":\"Night Club\",\"icon\":{\"prefix\":\"https://ss3.4sqi.net/img/categories_v2/nightlife/nightclub_\",\"suffix\":\".png\"}},{\"id\":13003,\"name\":\"Bar\",\"icon\":{\"prefix\":\"https://ss3.4sqi.net/img/categories_v2/nightlife/pub_\",\"suffix\":\".png\"}}],\"chains\":[],\"distance\":3542,\"geocodes\":{\"main\":{\"latitude\":37.392426,\"longitude\":-122.078764},\"roof\":{\"latitude\":37.392426,\"longitude\":-122.078764}},\"link\":\"/v3/places/4b12183af964a520018923e3\",\"location\":{\"address\":\"736 W Dana St\",\"census_block\":\"060855096003008\",\"country\":\"US\",\"cross_street\":\"at Castro St\",\"dma\":\"San Francisco-Oakland-San Jose\",\"formatted_address\":\"736 W Dana St (at Castro St), Mountain View, CA 94041\",\"locality\":\"Mountain View\",\"neighborhood\":[\"Mountain View South\"],\"postcode\":\"94041\",\"region\":\"CA\"},\"name\":\"Alberto's Night Club\",\"related_places\":{},\"timezone\":\"America/Los_Angeles\"},{\"fsq_id\":\"51390182e4b0e19609597bb2\",\"categories\":[{\"id\":13007,\"name\":\"Beer Garden\",\"icon\":{\"prefix\":\"https://ss3.4sqi.net/img/categories_v2/nightlife/beergarden_\",\"suffix\":\".png\"}},{\"id\":13065,\"name\":\"Restaurant\",\"icon\":{\"prefix\":\"https://ss3.4sqi.net/img/categories_v2/food/default_\",\"suffix\":\".png\"}}],\"chains\":[],\"distance\":3426,\"geocodes\":{\"main\":{\"latitude\":37.393987,\"longitude\":-122.079852},\"roof\":{\"latitude\":37.393987,\"longitude\":-122.079852}},\"link\":\"/v3/places/51390182e4b0e19609597bb2\",\"location\":{\"address\":\"895 Villa St\",\"census_block\":\"060855096002016\",\"country\":\"US\",\"cross_street\":\"at Bryant St\",\"dma\":\"San Francisco-Oakland-San Jose\",\"formatted_address\":\"895 Villa St (at Bryant St), Mountain View, CA 94041\",\"locality\":\"Mountain View\",\"neighborhood\":[\"Mountain View South\"],\"postcode\":\"94041\",\"region\":\"CA\"},\"name\":\"Steins Beer Garden\",\"related_places\":{},\"timezone\":\"America/Los_Angeles\"},{\"fsq_id\":\"4aee2a3cf964a520a0d221e3\",\"categories\":[{\"id\":16032,\"name\":\"Park\",\"icon\":{\"prefix\":\"https://ss3.4sqi.net/img/categories_v2/parks_outdoors/park_\",\"suffix\":\".png\"}}],\"chains\":[],\"distance\":4027,\"geocodes\":{\"main\":{\"latitude\":37.389537,\"longitude\":-122.083326}},\"link\":\"/v3/places/4aee2a3cf964a520a0d221e3\",\"location\":{\"address\":\"Church St\",\"census_block\":\"060855096002032\",\"country\":\"US\",\"cross_street\":\"btw Franklin St. & Castro St.\",\"dma\":\"San Francisco-Oakland-San Jose\",\"formatted_address\":\"Church St (btw Franklin St. & Castro St.), Mountain View, CA 94041\",\"locality\":\"Mountain View\",\"neighborhood\":[\"Mountain View South\"],\"postcode\":\"94041\",\"region\":\"CA\"},\"name\":\"Pioneer Park\",\"related_places\":{},\"timezone\":\"America/Los_Angeles\"},{\"fsq_id\":\"46d36eb9f964a520584a1fe3\",\"categories\":[{\"id\":13031,\"name\":\"Burger Joint\",\"icon\":{\"prefix\":\"https://ss3.4sqi.net/img/categories_v2/food/burger_\",\"suffix\":\".png\"}},{\"id\":13145,\"name\":\"Fast Food Restaurant\",\"icon\":{\"prefix\":\"https://ss3.4sqi.net/img/categories_v2/food/fastfood_\",\"suffix\":\".png\"}}],\"chains\":[{\"id\":\"bc635867-86af-4d4d-9dfd-e7b17779fe0c\",\"name\":\"In-N-Out Burger\"}],\"distance\":4548,\"geocodes\":{\"main\":{\"latitude\":37.380483,\"longitude\":-122.07388},\"roof\":{\"latitude\":37.380483,\"longitude\":-122.07388}},\"link\":\"/v3/places/46d36eb9f964a520584a1fe3\",\"location\":{\"address\":\"53 W El Camino Real\",\"address_extended\":\"# 94040-2601\",\"census_block\":\"060855099021004\",\"country\":\"US\",\"cross_street\":\"at Grant Rd\",\"dma\":\"San Francisco-Oakland-San Jose\",\"formatted_address\":\"53 W El Camino Real (at Grant Rd), Mountain View, CA 94040\",\"locality\":\"Mountain View\",\"neighborhood\":[\"Mountain View South\"],\"postcode\":\"94040\",\"region\":\"CA\"},\"name\":\"In-N-Out Burger\",\"related_places\":{},\"timezone\":\"America/Los_Angeles\"}],\"context\":{\"geo_bounds\":{\"circle\":{\"center\":{\"latitude\":37.41920471191406,\"longitude\":-122.05740356445312},\"radius\":22000}}}}\n"
          ]
        }
      ]
    },
    {
      "cell_type": "code",
      "source": [
        "m = folium.Map(location=[13.133521,77.567135])"
      ],
      "metadata": {
        "id": "_jgAawXE2Tqd"
      },
      "execution_count": null,
      "outputs": []
    },
    {
      "cell_type": "code",
      "source": [
        "m"
      ],
      "metadata": {
        "colab": {
          "base_uri": "https://localhost:8080/",
          "height": 782
        },
        "id": "sN0xJUzGMRcR",
        "outputId": "b214684c-0996-4579-93e3-70ff2f43012a"
      },
      "execution_count": null,
      "outputs": [
        {
          "output_type": "execute_result",
          "data": {
            "text/plain": [
              "<folium.folium.Map at 0x7fa2ec696b80>"
            ],
            "text/html": [
              "<div style=\"width:100%;\"><div style=\"position:relative;width:100%;height:0;padding-bottom:60%;\"><span style=\"color:#565656\">Make this Notebook Trusted to load map: File -> Trust Notebook</span><iframe srcdoc=\"&lt;!DOCTYPE html&gt;\n",
              "&lt;html&gt;\n",
              "&lt;head&gt;\n",
              "    \n",
              "    &lt;meta http-equiv=&quot;content-type&quot; content=&quot;text/html; charset=UTF-8&quot; /&gt;\n",
              "    \n",
              "        &lt;script&gt;\n",
              "            L_NO_TOUCH = false;\n",
              "            L_DISABLE_3D = false;\n",
              "        &lt;/script&gt;\n",
              "    \n",
              "    &lt;style&gt;html, body {width: 100%;height: 100%;margin: 0;padding: 0;}&lt;/style&gt;\n",
              "    &lt;style&gt;#map {position:absolute;top:0;bottom:0;right:0;left:0;}&lt;/style&gt;\n",
              "    &lt;script src=&quot;https://cdn.jsdelivr.net/npm/leaflet@1.6.0/dist/leaflet.js&quot;&gt;&lt;/script&gt;\n",
              "    &lt;script src=&quot;https://code.jquery.com/jquery-1.12.4.min.js&quot;&gt;&lt;/script&gt;\n",
              "    &lt;script src=&quot;https://maxcdn.bootstrapcdn.com/bootstrap/3.2.0/js/bootstrap.min.js&quot;&gt;&lt;/script&gt;\n",
              "    &lt;script src=&quot;https://cdnjs.cloudflare.com/ajax/libs/Leaflet.awesome-markers/2.0.2/leaflet.awesome-markers.js&quot;&gt;&lt;/script&gt;\n",
              "    &lt;link rel=&quot;stylesheet&quot; href=&quot;https://cdn.jsdelivr.net/npm/leaflet@1.6.0/dist/leaflet.css&quot;/&gt;\n",
              "    &lt;link rel=&quot;stylesheet&quot; href=&quot;https://maxcdn.bootstrapcdn.com/bootstrap/3.2.0/css/bootstrap.min.css&quot;/&gt;\n",
              "    &lt;link rel=&quot;stylesheet&quot; href=&quot;https://maxcdn.bootstrapcdn.com/bootstrap/3.2.0/css/bootstrap-theme.min.css&quot;/&gt;\n",
              "    &lt;link rel=&quot;stylesheet&quot; href=&quot;https://maxcdn.bootstrapcdn.com/font-awesome/4.6.3/css/font-awesome.min.css&quot;/&gt;\n",
              "    &lt;link rel=&quot;stylesheet&quot; href=&quot;https://cdnjs.cloudflare.com/ajax/libs/Leaflet.awesome-markers/2.0.2/leaflet.awesome-markers.css&quot;/&gt;\n",
              "    &lt;link rel=&quot;stylesheet&quot; href=&quot;https://cdn.jsdelivr.net/gh/python-visualization/folium/folium/templates/leaflet.awesome.rotate.min.css&quot;/&gt;\n",
              "    \n",
              "            &lt;meta name=&quot;viewport&quot; content=&quot;width=device-width,\n",
              "                initial-scale=1.0, maximum-scale=1.0, user-scalable=no&quot; /&gt;\n",
              "            &lt;style&gt;\n",
              "                #map_0fac403d90209d150df060f9b50a36a7 {\n",
              "                    position: relative;\n",
              "                    width: 100.0%;\n",
              "                    height: 100.0%;\n",
              "                    left: 0.0%;\n",
              "                    top: 0.0%;\n",
              "                }\n",
              "            &lt;/style&gt;\n",
              "        \n",
              "&lt;/head&gt;\n",
              "&lt;body&gt;\n",
              "    \n",
              "    \n",
              "            &lt;div class=&quot;folium-map&quot; id=&quot;map_0fac403d90209d150df060f9b50a36a7&quot; &gt;&lt;/div&gt;\n",
              "        \n",
              "&lt;/body&gt;\n",
              "&lt;script&gt;\n",
              "    \n",
              "    \n",
              "            var map_0fac403d90209d150df060f9b50a36a7 = L.map(\n",
              "                &quot;map_0fac403d90209d150df060f9b50a36a7&quot;,\n",
              "                {\n",
              "                    center: [13.133521, 77.567135],\n",
              "                    crs: L.CRS.EPSG3857,\n",
              "                    zoom: 10,\n",
              "                    zoomControl: true,\n",
              "                    preferCanvas: false,\n",
              "                }\n",
              "            );\n",
              "\n",
              "            \n",
              "\n",
              "        \n",
              "    \n",
              "            var tile_layer_a4274a4f04a87bf594b81e3e6bae2b23 = L.tileLayer(\n",
              "                &quot;https://{s}.tile.openstreetmap.org/{z}/{x}/{y}.png&quot;,\n",
              "                {&quot;attribution&quot;: &quot;Data by \\u0026copy; \\u003ca href=\\&quot;http://openstreetmap.org\\&quot;\\u003eOpenStreetMap\\u003c/a\\u003e, under \\u003ca href=\\&quot;http://www.openstreetmap.org/copyright\\&quot;\\u003eODbL\\u003c/a\\u003e.&quot;, &quot;detectRetina&quot;: false, &quot;maxNativeZoom&quot;: 18, &quot;maxZoom&quot;: 18, &quot;minZoom&quot;: 0, &quot;noWrap&quot;: false, &quot;opacity&quot;: 1, &quot;subdomains&quot;: &quot;abc&quot;, &quot;tms&quot;: false}\n",
              "            ).addTo(map_0fac403d90209d150df060f9b50a36a7);\n",
              "        \n",
              "&lt;/script&gt;\n",
              "&lt;/html&gt;\" style=\"position:absolute;width:100%;height:100%;left:0;top:0;border:none !important;\" allowfullscreen webkitallowfullscreen mozallowfullscreen></iframe></div></div>"
            ]
          },
          "metadata": {},
          "execution_count": 8
        }
      ]
    },
    {
      "cell_type": "code",
      "source": [],
      "metadata": {
        "id": "EBtelEOFMS82"
      },
      "execution_count": null,
      "outputs": []
    }
  ]
}